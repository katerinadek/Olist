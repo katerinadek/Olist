{
 "cells": [
  {
   "cell_type": "markdown",
   "metadata": {},
   "source": [
    "# Orders - Multivariate Regression of review_score"
   ]
  },
  {
   "cell_type": "code",
   "execution_count": 3,
   "metadata": {},
   "outputs": [],
   "source": [
    "%load_ext autoreload\n",
    "%autoreload 2"
   ]
  },
  {
   "cell_type": "code",
   "execution_count": 4,
   "metadata": {},
   "outputs": [],
   "source": [
    "# import modules \n",
    "import pandas as pd\n",
    "import numpy as np \n",
    "import seaborn as sns\n",
    "import matplotlib.pyplot as plt"
   ]
  },
  {
   "cell_type": "code",
   "execution_count": 6,
   "metadata": {
    "scrolled": true
   },
   "outputs": [
    {
     "data": {
      "text/html": [
       "<div>\n",
       "<style scoped>\n",
       "    .dataframe tbody tr th:only-of-type {\n",
       "        vertical-align: middle;\n",
       "    }\n",
       "\n",
       "    .dataframe tbody tr th {\n",
       "        vertical-align: top;\n",
       "    }\n",
       "\n",
       "    .dataframe thead th {\n",
       "        text-align: right;\n",
       "    }\n",
       "</style>\n",
       "<table border=\"1\" class=\"dataframe\">\n",
       "  <thead>\n",
       "    <tr style=\"text-align: right;\">\n",
       "      <th></th>\n",
       "      <th>order_id</th>\n",
       "      <th>wait_time</th>\n",
       "      <th>expected_wait_time</th>\n",
       "      <th>delay_vs_expected</th>\n",
       "      <th>order_status</th>\n",
       "      <th>dim_is_five_star</th>\n",
       "      <th>dim_is_one_star</th>\n",
       "      <th>review_score</th>\n",
       "      <th>number_of_products</th>\n",
       "      <th>number_of_sellers</th>\n",
       "      <th>price</th>\n",
       "      <th>freight_value</th>\n",
       "      <th>distance_seller_customer</th>\n",
       "    </tr>\n",
       "  </thead>\n",
       "  <tbody>\n",
       "    <tr>\n",
       "      <th>0</th>\n",
       "      <td>e481f51cbdc54678b7cc49136f2d6af7</td>\n",
       "      <td>8.0</td>\n",
       "      <td>15</td>\n",
       "      <td>0.0</td>\n",
       "      <td>delivered</td>\n",
       "      <td>0</td>\n",
       "      <td>0</td>\n",
       "      <td>4</td>\n",
       "      <td>1</td>\n",
       "      <td>1</td>\n",
       "      <td>29.99</td>\n",
       "      <td>8.72</td>\n",
       "      <td>18.063837</td>\n",
       "    </tr>\n",
       "    <tr>\n",
       "      <th>1</th>\n",
       "      <td>53cdb2fc8bc7dce0b6741e2150273451</td>\n",
       "      <td>13.0</td>\n",
       "      <td>19</td>\n",
       "      <td>0.0</td>\n",
       "      <td>delivered</td>\n",
       "      <td>0</td>\n",
       "      <td>0</td>\n",
       "      <td>4</td>\n",
       "      <td>1</td>\n",
       "      <td>1</td>\n",
       "      <td>118.70</td>\n",
       "      <td>22.76</td>\n",
       "      <td>856.292580</td>\n",
       "    </tr>\n",
       "    <tr>\n",
       "      <th>2</th>\n",
       "      <td>47770eb9100c2d0c44946d9cf07ec65d</td>\n",
       "      <td>9.0</td>\n",
       "      <td>26</td>\n",
       "      <td>0.0</td>\n",
       "      <td>delivered</td>\n",
       "      <td>1</td>\n",
       "      <td>0</td>\n",
       "      <td>5</td>\n",
       "      <td>1</td>\n",
       "      <td>1</td>\n",
       "      <td>159.90</td>\n",
       "      <td>19.22</td>\n",
       "      <td>514.130333</td>\n",
       "    </tr>\n",
       "    <tr>\n",
       "      <th>3</th>\n",
       "      <td>949d5b44dbf5de918fe9c16f97b45f8a</td>\n",
       "      <td>13.0</td>\n",
       "      <td>26</td>\n",
       "      <td>0.0</td>\n",
       "      <td>delivered</td>\n",
       "      <td>1</td>\n",
       "      <td>0</td>\n",
       "      <td>5</td>\n",
       "      <td>1</td>\n",
       "      <td>1</td>\n",
       "      <td>45.00</td>\n",
       "      <td>27.20</td>\n",
       "      <td>1822.800366</td>\n",
       "    </tr>\n",
       "    <tr>\n",
       "      <th>4</th>\n",
       "      <td>ad21c59c0840e6cb83a9ceb5573f8159</td>\n",
       "      <td>2.0</td>\n",
       "      <td>12</td>\n",
       "      <td>0.0</td>\n",
       "      <td>delivered</td>\n",
       "      <td>1</td>\n",
       "      <td>0</td>\n",
       "      <td>5</td>\n",
       "      <td>1</td>\n",
       "      <td>1</td>\n",
       "      <td>19.90</td>\n",
       "      <td>8.72</td>\n",
       "      <td>30.174037</td>\n",
       "    </tr>\n",
       "    <tr>\n",
       "      <th>...</th>\n",
       "      <td>...</td>\n",
       "      <td>...</td>\n",
       "      <td>...</td>\n",
       "      <td>...</td>\n",
       "      <td>...</td>\n",
       "      <td>...</td>\n",
       "      <td>...</td>\n",
       "      <td>...</td>\n",
       "      <td>...</td>\n",
       "      <td>...</td>\n",
       "      <td>...</td>\n",
       "      <td>...</td>\n",
       "      <td>...</td>\n",
       "    </tr>\n",
       "    <tr>\n",
       "      <th>96528</th>\n",
       "      <td>9c5dedf39a927c1b2549525ed64a053c</td>\n",
       "      <td>8.0</td>\n",
       "      <td>18</td>\n",
       "      <td>0.0</td>\n",
       "      <td>delivered</td>\n",
       "      <td>1</td>\n",
       "      <td>0</td>\n",
       "      <td>5</td>\n",
       "      <td>1</td>\n",
       "      <td>1</td>\n",
       "      <td>72.00</td>\n",
       "      <td>13.08</td>\n",
       "      <td>69.481037</td>\n",
       "    </tr>\n",
       "    <tr>\n",
       "      <th>96529</th>\n",
       "      <td>63943bddc261676b46f01ca7ac2f7bd8</td>\n",
       "      <td>22.0</td>\n",
       "      <td>23</td>\n",
       "      <td>0.0</td>\n",
       "      <td>delivered</td>\n",
       "      <td>0</td>\n",
       "      <td>0</td>\n",
       "      <td>4</td>\n",
       "      <td>1</td>\n",
       "      <td>1</td>\n",
       "      <td>174.90</td>\n",
       "      <td>20.10</td>\n",
       "      <td>474.098245</td>\n",
       "    </tr>\n",
       "    <tr>\n",
       "      <th>96530</th>\n",
       "      <td>83c1379a015df1e13d02aae0204711ab</td>\n",
       "      <td>24.0</td>\n",
       "      <td>30</td>\n",
       "      <td>0.0</td>\n",
       "      <td>delivered</td>\n",
       "      <td>1</td>\n",
       "      <td>0</td>\n",
       "      <td>5</td>\n",
       "      <td>1</td>\n",
       "      <td>1</td>\n",
       "      <td>205.99</td>\n",
       "      <td>65.02</td>\n",
       "      <td>968.051192</td>\n",
       "    </tr>\n",
       "    <tr>\n",
       "      <th>96531</th>\n",
       "      <td>11c177c8e97725db2631073c19f07b62</td>\n",
       "      <td>17.0</td>\n",
       "      <td>37</td>\n",
       "      <td>0.0</td>\n",
       "      <td>delivered</td>\n",
       "      <td>0</td>\n",
       "      <td>0</td>\n",
       "      <td>2</td>\n",
       "      <td>2</td>\n",
       "      <td>1</td>\n",
       "      <td>359.98</td>\n",
       "      <td>81.18</td>\n",
       "      <td>370.146853</td>\n",
       "    </tr>\n",
       "    <tr>\n",
       "      <th>96532</th>\n",
       "      <td>66dea50a8b16d9b4dee7af250b4be1a5</td>\n",
       "      <td>7.0</td>\n",
       "      <td>25</td>\n",
       "      <td>0.0</td>\n",
       "      <td>delivered</td>\n",
       "      <td>1</td>\n",
       "      <td>0</td>\n",
       "      <td>5</td>\n",
       "      <td>1</td>\n",
       "      <td>1</td>\n",
       "      <td>68.50</td>\n",
       "      <td>18.36</td>\n",
       "      <td>631.817784</td>\n",
       "    </tr>\n",
       "  </tbody>\n",
       "</table>\n",
       "<p>96525 rows × 13 columns</p>\n",
       "</div>"
      ],
      "text/plain": [
       "                               order_id  wait_time  expected_wait_time  \\\n",
       "0      e481f51cbdc54678b7cc49136f2d6af7        8.0                  15   \n",
       "1      53cdb2fc8bc7dce0b6741e2150273451       13.0                  19   \n",
       "2      47770eb9100c2d0c44946d9cf07ec65d        9.0                  26   \n",
       "3      949d5b44dbf5de918fe9c16f97b45f8a       13.0                  26   \n",
       "4      ad21c59c0840e6cb83a9ceb5573f8159        2.0                  12   \n",
       "...                                 ...        ...                 ...   \n",
       "96528  9c5dedf39a927c1b2549525ed64a053c        8.0                  18   \n",
       "96529  63943bddc261676b46f01ca7ac2f7bd8       22.0                  23   \n",
       "96530  83c1379a015df1e13d02aae0204711ab       24.0                  30   \n",
       "96531  11c177c8e97725db2631073c19f07b62       17.0                  37   \n",
       "96532  66dea50a8b16d9b4dee7af250b4be1a5        7.0                  25   \n",
       "\n",
       "       delay_vs_expected order_status  dim_is_five_star  dim_is_one_star  \\\n",
       "0                    0.0    delivered                 0                0   \n",
       "1                    0.0    delivered                 0                0   \n",
       "2                    0.0    delivered                 1                0   \n",
       "3                    0.0    delivered                 1                0   \n",
       "4                    0.0    delivered                 1                0   \n",
       "...                  ...          ...               ...              ...   \n",
       "96528                0.0    delivered                 1                0   \n",
       "96529                0.0    delivered                 0                0   \n",
       "96530                0.0    delivered                 1                0   \n",
       "96531                0.0    delivered                 0                0   \n",
       "96532                0.0    delivered                 1                0   \n",
       "\n",
       "       review_score  number_of_products  number_of_sellers   price  \\\n",
       "0                 4                   1                  1   29.99   \n",
       "1                 4                   1                  1  118.70   \n",
       "2                 5                   1                  1  159.90   \n",
       "3                 5                   1                  1   45.00   \n",
       "4                 5                   1                  1   19.90   \n",
       "...             ...                 ...                ...     ...   \n",
       "96528             5                   1                  1   72.00   \n",
       "96529             4                   1                  1  174.90   \n",
       "96530             5                   1                  1  205.99   \n",
       "96531             2                   2                  1  359.98   \n",
       "96532             5                   1                  1   68.50   \n",
       "\n",
       "       freight_value  distance_seller_customer  \n",
       "0               8.72                 18.063837  \n",
       "1              22.76                856.292580  \n",
       "2              19.22                514.130333  \n",
       "3              27.20               1822.800366  \n",
       "4               8.72                 30.174037  \n",
       "...              ...                       ...  \n",
       "96528          13.08                 69.481037  \n",
       "96529          20.10                474.098245  \n",
       "96530          65.02                968.051192  \n",
       "96531          81.18                370.146853  \n",
       "96532          18.36                631.817784  \n",
       "\n",
       "[96525 rows x 13 columns]"
      ]
     },
     "execution_count": 6,
     "metadata": {},
     "output_type": "execute_result"
    }
   ],
   "source": [
    "''' You can download the solution for yesterday's optional distance_seller_customer function from Kitt \n",
    "and paste it into your olist/orders.py file, if you weren't able to complete it '''\n",
    "# import orders dataset\n",
    "from olist.order import Order\n",
    "orders = Order().get_training_data(with_distance_seller_customer=True)\n",
    "orders"
   ]
  },
  {
   "cell_type": "code",
   "execution_count": 10,
   "metadata": {},
   "outputs": [],
   "source": [
    "#orders['number_of_products'].describe()"
   ]
  },
  {
   "cell_type": "code",
   "execution_count": 11,
   "metadata": {},
   "outputs": [],
   "source": [
    "#diff = orders['number_of_products'] - orders['number_of_sellers']\n",
    "#diff.describe()"
   ]
  },
  {
   "cell_type": "code",
   "execution_count": 12,
   "metadata": {},
   "outputs": [],
   "source": [
    "#orders['number_of_sellers'].describe()"
   ]
  },
  {
   "cell_type": "markdown",
   "metadata": {},
   "source": [
    "Let's recall our simple analysis from yesterday's exercise: \n",
    "\n",
    "Based on our correlation matrix below, we notice that `review_score` is mostly correlated with the two features `wait_time` and `delay_vs_expected`. However, these two features are also highly correlated with each other. In this exercise, we will use `statsmodels` to distinguish the effect of one feature, **holding the other one constant**."
   ]
  },
  {
   "cell_type": "code",
   "execution_count": 13,
   "metadata": {},
   "outputs": [
    {
     "data": {
      "text/plain": [
       "<AxesSubplot:>"
      ]
     },
     "execution_count": 13,
     "metadata": {},
     "output_type": "execute_result"
    },
    {
     "data": {
      "image/png": "[encoded data removed]",
      "text/plain": [
       "<Figure size 432x288 with 2 Axes>"
      ]
     },
     "metadata": {
      "needs_background": "light"
     },
     "output_type": "display_data"
    }
   ],
   "source": [
    "sns.heatmap(orders.corr(), cmap='coolwarm')"
   ]
  },
  {
   "cell_type": "code",
   "execution_count": 14,
   "metadata": {},
   "outputs": [
    {
     "data": {
      "text/plain": [
       "(0.0, 5.90775554521926)"
      ]
     },
     "execution_count": 14,
     "metadata": {},
     "output_type": "execute_result"
    },
    {
     "data": {
      "image/png": "[encoded data removed]",
      "text/plain": [
       "<Figure size 936x360 with 2 Axes>"
      ]
     },
     "metadata": {
      "needs_background": "light"
     },
     "output_type": "display_data"
    }
   ],
   "source": [
    "sample = orders.sample(10000, random_state=42)\n",
    "plt.figure(figsize=(13,5))\n",
    "plt.suptitle('Regression of review_score, 95% confidence interval')\n",
    "plt.subplot(1,2,1)\n",
    "sns.regplot(x = sample.wait_time, y= sample.review_score, y_jitter=.1, ci=95)\n",
    "plt.xlim(right=70)\n",
    "plt.ylim(bottom=0)\n",
    "\n",
    "plt.subplot(1,2,2)\n",
    "sns.regplot(x = orders.delay_vs_expected, y= orders.review_score, y_jitter=.1, ci=95)\n",
    "plt.xlim(right=70)\n",
    "plt.ylim(bottom=0)"
   ]
  },
  {
   "cell_type": "markdown",
   "metadata": {},
   "source": [
    "## 1 - Univariate regression"
   ]
  },
  {
   "cell_type": "markdown",
   "metadata": {},
   "source": [
    "❓Use [statsmodels](https://www.statsmodels.org/stable/generated/statsmodels.formula.api.ols.html) with `statsmodels.formula.api` to quickly make\n",
    " - `model1`: an ols regression of `review_score` over `wait_time`\n",
    " - `model2`: an ols regression of `review_score` over `delay_vs_expected`\n",
    "\n",
    "For each, Print the `summary` table and interpret the results:\n",
    "- Make sure to understand how these results match those of the seaborn regplot\n",
    "- Read the regression performance metric R-squared, as well as individual regression coefficients, t-values, p-values, and 95% confidence intervals"
   ]
  },
  {
   "cell_type": "code",
   "execution_count": 15,
   "metadata": {},
   "outputs": [],
   "source": [
    "import statsmodels.formula.api as smf"
   ]
  },
  {
   "cell_type": "code",
   "execution_count": 16,
   "metadata": {},
   "outputs": [
    {
     "data": {
      "text/plain": [
       "<statsmodels.regression.linear_model.RegressionResultsWrapper at 0x7f19657d39d0>"
      ]
     },
     "execution_count": 16,
     "metadata": {},
     "output_type": "execute_result"
    }
   ],
   "source": [
    "# YOUR CODE HERE\n",
    "model1=smf.ols(formula = 'review_score ~ wait_time ', data=orders)\n",
    "model1 = model1.fit()\n",
    "model1"
   ]
  },
  {
   "cell_type": "code",
   "execution_count": 17,
   "metadata": {},
   "outputs": [
    {
     "name": "stdout",
     "output_type": "stream",
     "text": [
      "Intercept    4.692126\n",
      "wait_time   -0.045499\n",
      "dtype: float64\n"
     ]
    }
   ],
   "source": [
    "print(model1.params)"
   ]
  },
  {
   "cell_type": "markdown",
   "metadata": {},
   "source": []
  },
  {
   "cell_type": "code",
   "execution_count": 18,
   "metadata": {},
   "outputs": [
    {
     "data": {
      "text/plain": [
       "<statsmodels.regression.linear_model.RegressionResultsWrapper at 0x7f19546a61f0>"
      ]
     },
     "execution_count": 18,
     "metadata": {},
     "output_type": "execute_result"
    }
   ],
   "source": [
    "# YOUR CODE HERE\n",
    "model2 = smf.ols(formula = 'review_score ~ delay_vs_expected', data=orders)\n",
    "model2=model2.fit()\n",
    "model2"
   ]
  },
  {
   "cell_type": "code",
   "execution_count": 19,
   "metadata": {},
   "outputs": [
    {
     "name": "stdout",
     "output_type": "stream",
     "text": [
      "Intercept            4.194649\n",
      "delay_vs_expected   -0.073369\n",
      "dtype: float64\n"
     ]
    }
   ],
   "source": [
    "print(model2.params)"
   ]
  },
  {
   "cell_type": "markdown",
   "metadata": {},
   "source": [
    "## 2 - Multivariate regression"
   ]
  },
  {
   "cell_type": "markdown",
   "metadata": {},
   "source": [
    "❓ What is the impact on `review_score` of adding one day of `delay_vs_expected` to the order, **holding `wait_time` constant**? Which of the two features is the most explicative for the low `review_score`?\n",
    "\n",
    "For that purpose, run an OLS model `model3` where both `wait_time` and `delay_vs_expected` are the features (independent variables), and `review_score` is the target (dependent variable)"
   ]
  },
  {
   "cell_type": "code",
   "execution_count": 20,
   "metadata": {},
   "outputs": [],
   "source": [
    "# YOUR CODE HERE\n",
    "model3 = smf.ols(formula='review_score ~ wait_time + delay_vs_expected', data = orders)\n",
    "model3=model3.fit()"
   ]
  },
  {
   "cell_type": "code",
   "execution_count": 21,
   "metadata": {},
   "outputs": [
    {
     "name": "stdout",
     "output_type": "stream",
     "text": [
      "Intercept            4.638411\n",
      "wait_time           -0.040118\n",
      "delay_vs_expected   -0.015824\n",
      "dtype: float64\n"
     ]
    }
   ],
   "source": [
    "print(model3.params)"
   ]
  },
  {
   "cell_type": "markdown",
   "metadata": {},
   "source": [
    "----\n",
    "❓Our multivariate regression allows us to isolate the impact of one feature, while controlling the effect of other features. These new coefficients are called **partial correlation** coefficients. Can you notice the difference with the **simple regression** coeffients computed with seaborn above? What can you say about the relative slopes for `wait_time` and `delay_vs_expected`? \n"
   ]
  },
  {
   "cell_type": "code",
   "execution_count": 15,
   "metadata": {},
   "outputs": [],
   "source": [
    "# Your answer"
   ]
  },
  {
   "cell_type": "markdown",
   "metadata": {},
   "source": [
    "<details>\n",
    "    <summary>💡 Solution</summary>\n",
    "\n",
    "- Holding `wait_time` constant, each additional day of `delay` reduces the review_score on average by 0.0191 [0.017 - 0.21] points\n",
    "- Holding `delay` constant, each additional day of `wait_time` reduces the review_score on average by 0.0388 points \n",
    "\n",
    "Contrary to what was found with the simple bivariate correlation analysis, `delay` is actually less impactful than `wait_time` in driving lower `review_score`! This interesting finding demonstrates the importance of multi-variate regression to remove the potential impact of confounding factors"
   ]
  },
  {
   "cell_type": "markdown",
   "metadata": {},
   "source": [
    "---\n",
    "❓ R-squared is quite low: no more than 12% of the variation of review_score is explained by the combined variations of `wait_time` and `delay_vs_expected`. Let's try to add more features to our regression to improve explainability.\n",
    "\n",
    "- Create a new OLS `model4` with more features from `orders` dataset.\n",
    "    - Do not create **data leaks**: do not add features that are directly derived from the `review_score`\n",
    "    - Do not add two features perfectly colinear with each other\n",
    "    - Transform each feature $X_i$ into its respective z-score $Z_i = \\frac{X_i - \\mu_i}{\\sigma_i}$ in order to compare the partial regression coefficients $\\beta_i$ together. Otherwise, the $\\beta_i$ are not of the same dimension, meaning you'll be comparing apples (e.g. \"review_stars per day\") with oranges (e.g. \"review_stars per BRL\")!"
   ]
  },
  {
   "cell_type": "code",
   "execution_count": 22,
   "metadata": {},
   "outputs": [],
   "source": [
    "# Select features\n",
    "features = ['wait_time', 'delay_vs_expected','number_of_products', 'number_of_sellers', 'price', 'freight_value', 'distance_seller_customer']"
   ]
  },
  {
   "cell_type": "code",
   "execution_count": 23,
   "metadata": {},
   "outputs": [
    {
     "data": {
      "text/plain": [
       "4.142004662004662"
      ]
     },
     "execution_count": 23,
     "metadata": {},
     "output_type": "execute_result"
    }
   ],
   "source": [
    "# standardize features (transform them into their respective z-scores)\n",
    "orders['review_score'].mean()"
   ]
  },
  {
   "cell_type": "code",
   "execution_count": 24,
   "metadata": {},
   "outputs": [
    {
     "data": {
      "text/plain": [
       "wait_time                    12.090743\n",
       "delay_vs_expected             0.717524\n",
       "number_of_products            1.142699\n",
       "number_of_sellers             1.013965\n",
       "price                       136.935472\n",
       "freight_value                22.773011\n",
       "distance_seller_customer    601.058677\n",
       "dtype: float64"
      ]
     },
     "execution_count": 24,
     "metadata": {},
     "output_type": "execute_result"
    }
   ],
   "source": [
    "feat_mean = orders[features].mean()\n",
    "feat_mean"
   ]
  },
  {
   "cell_type": "code",
   "execution_count": 25,
   "metadata": {},
   "outputs": [
    {
     "data": {
      "text/plain": [
       "wait_time                     9.545650\n",
       "delay_vs_expected             4.648025\n",
       "number_of_products            0.540518\n",
       "number_of_sellers             0.123792\n",
       "price                       208.935017\n",
       "freight_value                21.553810\n",
       "distance_seller_customer    595.216682\n",
       "dtype: float64"
      ]
     },
     "execution_count": 25,
     "metadata": {},
     "output_type": "execute_result"
    }
   ],
   "source": [
    "feat_std= orders[features].std()\n",
    "feat_std"
   ]
  },
  {
   "cell_type": "code",
   "execution_count": 26,
   "metadata": {},
   "outputs": [
    {
     "data": {
      "text/html": [
       "<div>\n",
       "<style scoped>\n",
       "    .dataframe tbody tr th:only-of-type {\n",
       "        vertical-align: middle;\n",
       "    }\n",
       "\n",
       "    .dataframe tbody tr th {\n",
       "        vertical-align: top;\n",
       "    }\n",
       "\n",
       "    .dataframe thead th {\n",
       "        text-align: right;\n",
       "    }\n",
       "</style>\n",
       "<table border=\"1\" class=\"dataframe\">\n",
       "  <thead>\n",
       "    <tr style=\"text-align: right;\">\n",
       "      <th></th>\n",
       "      <th>wait_time</th>\n",
       "      <th>delay_vs_expected</th>\n",
       "      <th>number_of_products</th>\n",
       "      <th>number_of_sellers</th>\n",
       "      <th>price</th>\n",
       "      <th>freight_value</th>\n",
       "      <th>distance_seller_customer</th>\n",
       "    </tr>\n",
       "  </thead>\n",
       "  <tbody>\n",
       "    <tr>\n",
       "      <th>0</th>\n",
       "      <td>-0.428545</td>\n",
       "      <td>-0.154372</td>\n",
       "      <td>-0.264004</td>\n",
       "      <td>-0.112813</td>\n",
       "      <td>-0.511860</td>\n",
       "      <td>-0.651997</td>\n",
       "      <td>-0.979467</td>\n",
       "    </tr>\n",
       "    <tr>\n",
       "      <th>1</th>\n",
       "      <td>0.095254</td>\n",
       "      <td>-0.154372</td>\n",
       "      <td>-0.264004</td>\n",
       "      <td>-0.112813</td>\n",
       "      <td>-0.087278</td>\n",
       "      <td>-0.000604</td>\n",
       "      <td>0.428808</td>\n",
       "    </tr>\n",
       "    <tr>\n",
       "      <th>2</th>\n",
       "      <td>-0.323786</td>\n",
       "      <td>-0.154372</td>\n",
       "      <td>-0.264004</td>\n",
       "      <td>-0.112813</td>\n",
       "      <td>0.109912</td>\n",
       "      <td>-0.164844</td>\n",
       "      <td>-0.146045</td>\n",
       "    </tr>\n",
       "    <tr>\n",
       "      <th>3</th>\n",
       "      <td>0.095254</td>\n",
       "      <td>-0.154372</td>\n",
       "      <td>-0.264004</td>\n",
       "      <td>-0.112813</td>\n",
       "      <td>-0.440019</td>\n",
       "      <td>0.205392</td>\n",
       "      <td>2.052600</td>\n",
       "    </tr>\n",
       "    <tr>\n",
       "      <th>4</th>\n",
       "      <td>-1.057104</td>\n",
       "      <td>-0.154372</td>\n",
       "      <td>-0.264004</td>\n",
       "      <td>-0.112813</td>\n",
       "      <td>-0.560153</td>\n",
       "      <td>-0.651997</td>\n",
       "      <td>-0.959121</td>\n",
       "    </tr>\n",
       "    <tr>\n",
       "      <th>...</th>\n",
       "      <td>...</td>\n",
       "      <td>...</td>\n",
       "      <td>...</td>\n",
       "      <td>...</td>\n",
       "      <td>...</td>\n",
       "      <td>...</td>\n",
       "      <td>...</td>\n",
       "    </tr>\n",
       "    <tr>\n",
       "      <th>96528</th>\n",
       "      <td>-0.428545</td>\n",
       "      <td>-0.154372</td>\n",
       "      <td>-0.264004</td>\n",
       "      <td>-0.112813</td>\n",
       "      <td>-0.310793</td>\n",
       "      <td>-0.449712</td>\n",
       "      <td>-0.893083</td>\n",
       "    </tr>\n",
       "    <tr>\n",
       "      <th>96529</th>\n",
       "      <td>1.038091</td>\n",
       "      <td>-0.154372</td>\n",
       "      <td>-0.264004</td>\n",
       "      <td>-0.112813</td>\n",
       "      <td>0.181705</td>\n",
       "      <td>-0.124016</td>\n",
       "      <td>-0.213301</td>\n",
       "    </tr>\n",
       "    <tr>\n",
       "      <th>96530</th>\n",
       "      <td>1.247611</td>\n",
       "      <td>-0.154372</td>\n",
       "      <td>-0.264004</td>\n",
       "      <td>-0.112813</td>\n",
       "      <td>0.330507</td>\n",
       "      <td>1.960071</td>\n",
       "      <td>0.616570</td>\n",
       "    </tr>\n",
       "    <tr>\n",
       "      <th>96531</th>\n",
       "      <td>0.514293</td>\n",
       "      <td>-0.154372</td>\n",
       "      <td>1.586072</td>\n",
       "      <td>-0.112813</td>\n",
       "      <td>1.067531</td>\n",
       "      <td>2.709822</td>\n",
       "      <td>-0.387946</td>\n",
       "    </tr>\n",
       "    <tr>\n",
       "      <th>96532</th>\n",
       "      <td>-0.533305</td>\n",
       "      <td>-0.154372</td>\n",
       "      <td>-0.264004</td>\n",
       "      <td>-0.112813</td>\n",
       "      <td>-0.327544</td>\n",
       "      <td>-0.204744</td>\n",
       "      <td>0.051677</td>\n",
       "    </tr>\n",
       "  </tbody>\n",
       "</table>\n",
       "<p>96525 rows × 7 columns</p>\n",
       "</div>"
      ],
      "text/plain": [
       "       wait_time  delay_vs_expected  number_of_products  number_of_sellers  \\\n",
       "0      -0.428545          -0.154372           -0.264004          -0.112813   \n",
       "1       0.095254          -0.154372           -0.264004          -0.112813   \n",
       "2      -0.323786          -0.154372           -0.264004          -0.112813   \n",
       "3       0.095254          -0.154372           -0.264004          -0.112813   \n",
       "4      -1.057104          -0.154372           -0.264004          -0.112813   \n",
       "...          ...                ...                 ...                ...   \n",
       "96528  -0.428545          -0.154372           -0.264004          -0.112813   \n",
       "96529   1.038091          -0.154372           -0.264004          -0.112813   \n",
       "96530   1.247611          -0.154372           -0.264004          -0.112813   \n",
       "96531   0.514293          -0.154372            1.586072          -0.112813   \n",
       "96532  -0.533305          -0.154372           -0.264004          -0.112813   \n",
       "\n",
       "          price  freight_value  distance_seller_customer  \n",
       "0     -0.511860      -0.651997                 -0.979467  \n",
       "1     -0.087278      -0.000604                  0.428808  \n",
       "2      0.109912      -0.164844                 -0.146045  \n",
       "3     -0.440019       0.205392                  2.052600  \n",
       "4     -0.560153      -0.651997                 -0.959121  \n",
       "...         ...            ...                       ...  \n",
       "96528 -0.310793      -0.449712                 -0.893083  \n",
       "96529  0.181705      -0.124016                 -0.213301  \n",
       "96530  0.330507       1.960071                  0.616570  \n",
       "96531  1.067531       2.709822                 -0.387946  \n",
       "96532 -0.327544      -0.204744                  0.051677  \n",
       "\n",
       "[96525 rows x 7 columns]"
      ]
     },
     "execution_count": 26,
     "metadata": {},
     "output_type": "execute_result"
    }
   ],
   "source": [
    "z_feat = (orders[features] - feat_mean) / feat_std\n",
    "z_feat"
   ]
  },
  {
   "cell_type": "code",
   "execution_count": 27,
   "metadata": {},
   "outputs": [
    {
     "data": {
      "text/html": [
       "<div>\n",
       "<style scoped>\n",
       "    .dataframe tbody tr th:only-of-type {\n",
       "        vertical-align: middle;\n",
       "    }\n",
       "\n",
       "    .dataframe tbody tr th {\n",
       "        vertical-align: top;\n",
       "    }\n",
       "\n",
       "    .dataframe thead th {\n",
       "        text-align: right;\n",
       "    }\n",
       "</style>\n",
       "<table border=\"1\" class=\"dataframe\">\n",
       "  <thead>\n",
       "    <tr style=\"text-align: right;\">\n",
       "      <th></th>\n",
       "      <th>wait_time</th>\n",
       "      <th>delay_vs_expected</th>\n",
       "      <th>number_of_products</th>\n",
       "      <th>number_of_sellers</th>\n",
       "      <th>price</th>\n",
       "      <th>freight_value</th>\n",
       "      <th>distance_seller_customer</th>\n",
       "    </tr>\n",
       "  </thead>\n",
       "  <tbody>\n",
       "    <tr>\n",
       "      <th>count</th>\n",
       "      <td>9.652500e+04</td>\n",
       "      <td>9.652500e+04</td>\n",
       "      <td>9.652500e+04</td>\n",
       "      <td>9.652500e+04</td>\n",
       "      <td>9.652500e+04</td>\n",
       "      <td>9.652500e+04</td>\n",
       "      <td>9.652500e+04</td>\n",
       "    </tr>\n",
       "    <tr>\n",
       "      <th>mean</th>\n",
       "      <td>-2.598514e-17</td>\n",
       "      <td>2.576431e-17</td>\n",
       "      <td>4.078121e-17</td>\n",
       "      <td>5.742496e-16</td>\n",
       "      <td>-1.840308e-17</td>\n",
       "      <td>-1.227853e-16</td>\n",
       "      <td>-1.115962e-16</td>\n",
       "    </tr>\n",
       "    <tr>\n",
       "      <th>std</th>\n",
       "      <td>1.000000e+00</td>\n",
       "      <td>1.000000e+00</td>\n",
       "      <td>1.000000e+00</td>\n",
       "      <td>1.000000e+00</td>\n",
       "      <td>1.000000e+00</td>\n",
       "      <td>1.000000e+00</td>\n",
       "      <td>1.000000e+00</td>\n",
       "    </tr>\n",
       "    <tr>\n",
       "      <th>min</th>\n",
       "      <td>-1.266623e+00</td>\n",
       "      <td>-1.543718e-01</td>\n",
       "      <td>-2.640036e-01</td>\n",
       "      <td>-1.128127e-01</td>\n",
       "      <td>-6.513292e-01</td>\n",
       "      <td>-1.056565e+00</td>\n",
       "      <td>-1.009815e+00</td>\n",
       "    </tr>\n",
       "    <tr>\n",
       "      <th>25%</th>\n",
       "      <td>-6.380648e-01</td>\n",
       "      <td>-1.543718e-01</td>\n",
       "      <td>-2.640036e-01</td>\n",
       "      <td>-1.128127e-01</td>\n",
       "      <td>-4.357119e-01</td>\n",
       "      <td>-4.149156e-01</td>\n",
       "      <td>-6.950415e-01</td>\n",
       "    </tr>\n",
       "    <tr>\n",
       "      <th>50%</th>\n",
       "      <td>-2.190258e-01</td>\n",
       "      <td>-1.543718e-01</td>\n",
       "      <td>-2.640036e-01</td>\n",
       "      <td>-1.128127e-01</td>\n",
       "      <td>-2.437862e-01</td>\n",
       "      <td>-2.604185e-01</td>\n",
       "      <td>-2.805496e-01</td>\n",
       "    </tr>\n",
       "    <tr>\n",
       "      <th>75%</th>\n",
       "      <td>3.047730e-01</td>\n",
       "      <td>-1.543718e-01</td>\n",
       "      <td>-2.640036e-01</td>\n",
       "      <td>-1.128127e-01</td>\n",
       "      <td>6.205053e-02</td>\n",
       "      <td>5.692679e-02</td>\n",
       "      <td>3.306386e-01</td>\n",
       "    </tr>\n",
       "    <tr>\n",
       "      <th>max</th>\n",
       "      <td>2.062817e+01</td>\n",
       "      <td>4.029291e+01</td>\n",
       "      <td>3.673751e+01</td>\n",
       "      <td>3.219949e+01</td>\n",
       "      <td>6.367082e+01</td>\n",
       "      <td>8.222152e+01</td>\n",
       "      <td>1.366879e+01</td>\n",
       "    </tr>\n",
       "  </tbody>\n",
       "</table>\n",
       "</div>"
      ],
      "text/plain": [
       "          wait_time  delay_vs_expected  number_of_products  number_of_sellers  \\\n",
       "count  9.652500e+04       9.652500e+04        9.652500e+04       9.652500e+04   \n",
       "mean  -2.598514e-17       2.576431e-17        4.078121e-17       5.742496e-16   \n",
       "std    1.000000e+00       1.000000e+00        1.000000e+00       1.000000e+00   \n",
       "min   -1.266623e+00      -1.543718e-01       -2.640036e-01      -1.128127e-01   \n",
       "25%   -6.380648e-01      -1.543718e-01       -2.640036e-01      -1.128127e-01   \n",
       "50%   -2.190258e-01      -1.543718e-01       -2.640036e-01      -1.128127e-01   \n",
       "75%    3.047730e-01      -1.543718e-01       -2.640036e-01      -1.128127e-01   \n",
       "max    2.062817e+01       4.029291e+01        3.673751e+01       3.219949e+01   \n",
       "\n",
       "              price  freight_value  distance_seller_customer  \n",
       "count  9.652500e+04   9.652500e+04              9.652500e+04  \n",
       "mean  -1.840308e-17  -1.227853e-16             -1.115962e-16  \n",
       "std    1.000000e+00   1.000000e+00              1.000000e+00  \n",
       "min   -6.513292e-01  -1.056565e+00             -1.009815e+00  \n",
       "25%   -4.357119e-01  -4.149156e-01             -6.950415e-01  \n",
       "50%   -2.437862e-01  -2.604185e-01             -2.805496e-01  \n",
       "75%    6.205053e-02   5.692679e-02              3.306386e-01  \n",
       "max    6.367082e+01   8.222152e+01              1.366879e+01  "
      ]
     },
     "execution_count": 27,
     "metadata": {},
     "output_type": "execute_result"
    }
   ],
   "source": [
    "z_feat.describe()"
   ]
  },
  {
   "cell_type": "code",
   "execution_count": 32,
   "metadata": {},
   "outputs": [],
   "source": [
    "#z_feat mean should be 0 and std 1\n",
    "#z_feat.isna().sum()"
   ]
  },
  {
   "cell_type": "code",
   "execution_count": 33,
   "metadata": {},
   "outputs": [],
   "source": [
    "#z_feat.std()"
   ]
  },
  {
   "cell_type": "code",
   "execution_count": 34,
   "metadata": {},
   "outputs": [],
   "source": [
    "z_feat['review_score'] = orders['review_score']"
   ]
  },
  {
   "cell_type": "code",
   "execution_count": 36,
   "metadata": {},
   "outputs": [
    {
     "data": {
      "text/plain": [
       "<statsmodels.regression.linear_model.RegressionResultsWrapper at 0x7f19546bc820>"
      ]
     },
     "execution_count": 36,
     "metadata": {},
     "output_type": "execute_result"
    }
   ],
   "source": [
    "# Create and train model4\n",
    "model4 = smf.ols(formula='review_score ~ wait_time + delay_vs_expected + number_of_products + number_of_sellers + price +freight_value +distance_seller_customer', data = z_feat)\n",
    "model4=model4.fit()\n",
    "model4"
   ]
  },
  {
   "cell_type": "code",
   "execution_count": 37,
   "metadata": {},
   "outputs": [
    {
     "data": {
      "text/html": [
       "<div>\n",
       "<style scoped>\n",
       "    .dataframe tbody tr th:only-of-type {\n",
       "        vertical-align: middle;\n",
       "    }\n",
       "\n",
       "    .dataframe tbody tr th {\n",
       "        vertical-align: top;\n",
       "    }\n",
       "\n",
       "    .dataframe thead th {\n",
       "        text-align: right;\n",
       "    }\n",
       "</style>\n",
       "<table border=\"1\" class=\"dataframe\">\n",
       "  <thead>\n",
       "    <tr style=\"text-align: right;\">\n",
       "      <th></th>\n",
       "      <th>wait_time</th>\n",
       "      <th>delay_vs_expected</th>\n",
       "      <th>number_of_products</th>\n",
       "      <th>number_of_sellers</th>\n",
       "      <th>price</th>\n",
       "      <th>freight_value</th>\n",
       "      <th>distance_seller_customer</th>\n",
       "      <th>review_score</th>\n",
       "    </tr>\n",
       "  </thead>\n",
       "  <tbody>\n",
       "    <tr>\n",
       "      <th>0</th>\n",
       "      <td>-0.428545</td>\n",
       "      <td>-0.154372</td>\n",
       "      <td>-0.264004</td>\n",
       "      <td>-0.112813</td>\n",
       "      <td>-0.511860</td>\n",
       "      <td>-0.651997</td>\n",
       "      <td>-0.979467</td>\n",
       "      <td>4</td>\n",
       "    </tr>\n",
       "    <tr>\n",
       "      <th>1</th>\n",
       "      <td>0.095254</td>\n",
       "      <td>-0.154372</td>\n",
       "      <td>-0.264004</td>\n",
       "      <td>-0.112813</td>\n",
       "      <td>-0.087278</td>\n",
       "      <td>-0.000604</td>\n",
       "      <td>0.428808</td>\n",
       "      <td>4</td>\n",
       "    </tr>\n",
       "    <tr>\n",
       "      <th>2</th>\n",
       "      <td>-0.323786</td>\n",
       "      <td>-0.154372</td>\n",
       "      <td>-0.264004</td>\n",
       "      <td>-0.112813</td>\n",
       "      <td>0.109912</td>\n",
       "      <td>-0.164844</td>\n",
       "      <td>-0.146045</td>\n",
       "      <td>5</td>\n",
       "    </tr>\n",
       "    <tr>\n",
       "      <th>3</th>\n",
       "      <td>0.095254</td>\n",
       "      <td>-0.154372</td>\n",
       "      <td>-0.264004</td>\n",
       "      <td>-0.112813</td>\n",
       "      <td>-0.440019</td>\n",
       "      <td>0.205392</td>\n",
       "      <td>2.052600</td>\n",
       "      <td>5</td>\n",
       "    </tr>\n",
       "    <tr>\n",
       "      <th>4</th>\n",
       "      <td>-1.057104</td>\n",
       "      <td>-0.154372</td>\n",
       "      <td>-0.264004</td>\n",
       "      <td>-0.112813</td>\n",
       "      <td>-0.560153</td>\n",
       "      <td>-0.651997</td>\n",
       "      <td>-0.959121</td>\n",
       "      <td>5</td>\n",
       "    </tr>\n",
       "  </tbody>\n",
       "</table>\n",
       "</div>"
      ],
      "text/plain": [
       "   wait_time  delay_vs_expected  number_of_products  number_of_sellers  \\\n",
       "0  -0.428545          -0.154372           -0.264004          -0.112813   \n",
       "1   0.095254          -0.154372           -0.264004          -0.112813   \n",
       "2  -0.323786          -0.154372           -0.264004          -0.112813   \n",
       "3   0.095254          -0.154372           -0.264004          -0.112813   \n",
       "4  -1.057104          -0.154372           -0.264004          -0.112813   \n",
       "\n",
       "      price  freight_value  distance_seller_customer  review_score  \n",
       "0 -0.511860      -0.651997                 -0.979467             4  \n",
       "1 -0.087278      -0.000604                  0.428808             4  \n",
       "2  0.109912      -0.164844                 -0.146045             5  \n",
       "3 -0.440019       0.205392                  2.052600             5  \n",
       "4 -0.560153      -0.651997                 -0.959121             5  "
      ]
     },
     "execution_count": 37,
     "metadata": {},
     "output_type": "execute_result"
    }
   ],
   "source": [
    "z_feat.head()"
   ]
  },
  {
   "cell_type": "code",
   "execution_count": 38,
   "metadata": {},
   "outputs": [
    {
     "data": {
      "text/html": [
       "<table class=\"simpletable\">\n",
       "<caption>OLS Regression Results</caption>\n",
       "<tr>\n",
       "  <th>Dep. Variable:</th>      <td>review_score</td>   <th>  R-squared:         </th>  <td>   0.145</td>  \n",
       "</tr>\n",
       "<tr>\n",
       "  <th>Model:</th>                   <td>OLS</td>       <th>  Adj. R-squared:    </th>  <td>   0.145</td>  \n",
       "</tr>\n",
       "<tr>\n",
       "  <th>Method:</th>             <td>Least Squares</td>  <th>  F-statistic:       </th>  <td>   2340.</td>  \n",
       "</tr>\n",
       "<tr>\n",
       "  <th>Date:</th>             <td>Wed, 28 Apr 2021</td> <th>  Prob (F-statistic):</th>   <td>  0.00</td>   \n",
       "</tr>\n",
       "<tr>\n",
       "  <th>Time:</th>                 <td>23:34:51</td>     <th>  Log-Likelihood:    </th> <td>-1.5448e+05</td>\n",
       "</tr>\n",
       "<tr>\n",
       "  <th>No. Observations:</th>      <td> 96525</td>      <th>  AIC:               </th>  <td>3.090e+05</td> \n",
       "</tr>\n",
       "<tr>\n",
       "  <th>Df Residuals:</th>          <td> 96517</td>      <th>  BIC:               </th>  <td>3.091e+05</td> \n",
       "</tr>\n",
       "<tr>\n",
       "  <th>Df Model:</th>              <td>     7</td>      <th>                     </th>      <td> </td>     \n",
       "</tr>\n",
       "<tr>\n",
       "  <th>Covariance Type:</th>      <td>nonrobust</td>    <th>                     </th>      <td> </td>     \n",
       "</tr>\n",
       "</table>\n",
       "<table class=\"simpletable\">\n",
       "<tr>\n",
       "              <td></td>                <th>coef</th>     <th>std err</th>      <th>t</th>      <th>P>|t|</th>  <th>[0.025</th>    <th>0.975]</th>  \n",
       "</tr>\n",
       "<tr>\n",
       "  <th>Intercept</th>                <td>    4.1420</td> <td>    0.004</td> <td> 1073.232</td> <td> 0.000</td> <td>    4.134</td> <td>    4.150</td>\n",
       "</tr>\n",
       "<tr>\n",
       "  <th>wait_time</th>                <td>   -0.4642</td> <td>    0.006</td> <td>  -74.867</td> <td> 0.000</td> <td>   -0.476</td> <td>   -0.452</td>\n",
       "</tr>\n",
       "<tr>\n",
       "  <th>delay_vs_expected</th>        <td>   -0.0274</td> <td>    0.006</td> <td>   -4.814</td> <td> 0.000</td> <td>   -0.039</td> <td>   -0.016</td>\n",
       "</tr>\n",
       "<tr>\n",
       "  <th>number_of_products</th>       <td>   -0.1327</td> <td>    0.005</td> <td>  -29.364</td> <td> 0.000</td> <td>   -0.142</td> <td>   -0.124</td>\n",
       "</tr>\n",
       "<tr>\n",
       "  <th>number_of_sellers</th>        <td>   -0.1321</td> <td>    0.004</td> <td>  -32.769</td> <td> 0.000</td> <td>   -0.140</td> <td>   -0.124</td>\n",
       "</tr>\n",
       "<tr>\n",
       "  <th>price</th>                    <td>   -0.0046</td> <td>    0.004</td> <td>   -1.082</td> <td> 0.279</td> <td>   -0.013</td> <td>    0.004</td>\n",
       "</tr>\n",
       "<tr>\n",
       "  <th>freight_value</th>            <td>    0.0058</td> <td>    0.005</td> <td>    1.152</td> <td> 0.249</td> <td>   -0.004</td> <td>    0.016</td>\n",
       "</tr>\n",
       "<tr>\n",
       "  <th>distance_seller_customer</th> <td>    0.1028</td> <td>    0.005</td> <td>   22.228</td> <td> 0.000</td> <td>    0.094</td> <td>    0.112</td>\n",
       "</tr>\n",
       "</table>\n",
       "<table class=\"simpletable\">\n",
       "<tr>\n",
       "  <th>Omnibus:</th>       <td>18244.473</td> <th>  Durbin-Watson:     </th> <td>   2.009</td> \n",
       "</tr>\n",
       "<tr>\n",
       "  <th>Prob(Omnibus):</th>  <td> 0.000</td>   <th>  Jarque-Bera (JB):  </th> <td>34452.118</td>\n",
       "</tr>\n",
       "<tr>\n",
       "  <th>Skew:</th>           <td>-1.173</td>   <th>  Prob(JB):          </th> <td>    0.00</td> \n",
       "</tr>\n",
       "<tr>\n",
       "  <th>Kurtosis:</th>       <td> 4.749</td>   <th>  Cond. No.          </th> <td>    2.99</td> \n",
       "</tr>\n",
       "</table><br/><br/>Notes:<br/>[1] Standard Errors assume that the covariance matrix of the errors is correctly specified."
      ],
      "text/plain": [
       "<class 'statsmodels.iolib.summary.Summary'>\n",
       "\"\"\"\n",
       "                            OLS Regression Results                            \n",
       "==============================================================================\n",
       "Dep. Variable:           review_score   R-squared:                       0.145\n",
       "Model:                            OLS   Adj. R-squared:                  0.145\n",
       "Method:                 Least Squares   F-statistic:                     2340.\n",
       "Date:                Wed, 28 Apr 2021   Prob (F-statistic):               0.00\n",
       "Time:                        23:34:51   Log-Likelihood:            -1.5448e+05\n",
       "No. Observations:               96525   AIC:                         3.090e+05\n",
       "Df Residuals:                   96517   BIC:                         3.091e+05\n",
       "Df Model:                           7                                         \n",
       "Covariance Type:            nonrobust                                         \n",
       "============================================================================================\n",
       "                               coef    std err          t      P>|t|      [0.025      0.975]\n",
       "--------------------------------------------------------------------------------------------\n",
       "Intercept                    4.1420      0.004   1073.232      0.000       4.134       4.150\n",
       "wait_time                   -0.4642      0.006    -74.867      0.000      -0.476      -0.452\n",
       "delay_vs_expected           -0.0274      0.006     -4.814      0.000      -0.039      -0.016\n",
       "number_of_products          -0.1327      0.005    -29.364      0.000      -0.142      -0.124\n",
       "number_of_sellers           -0.1321      0.004    -32.769      0.000      -0.140      -0.124\n",
       "price                       -0.0046      0.004     -1.082      0.279      -0.013       0.004\n",
       "freight_value                0.0058      0.005      1.152      0.249      -0.004       0.016\n",
       "distance_seller_customer     0.1028      0.005     22.228      0.000       0.094       0.112\n",
       "==============================================================================\n",
       "Omnibus:                    18244.473   Durbin-Watson:                   2.009\n",
       "Prob(Omnibus):                  0.000   Jarque-Bera (JB):            34452.118\n",
       "Skew:                          -1.173   Prob(JB):                         0.00\n",
       "Kurtosis:                       4.749   Cond. No.                         2.99\n",
       "==============================================================================\n",
       "\n",
       "Notes:\n",
       "[1] Standard Errors assume that the covariance matrix of the errors is correctly specified.\n",
       "\"\"\""
      ]
     },
     "execution_count": 38,
     "metadata": {},
     "output_type": "execute_result"
    }
   ],
   "source": [
    "model4.summary()"
   ]
  },
  {
   "cell_type": "code",
   "execution_count": 40,
   "metadata": {},
   "outputs": [
    {
     "data": {
      "text/plain": [
       "<AxesSubplot:>"
      ]
     },
     "execution_count": 40,
     "metadata": {},
     "output_type": "execute_result"
    },
    {
     "data": {
      "image/png": "[encoded data removed]",
      "text/plain": [
       "<Figure size 432x288 with 1 Axes>"
      ]
     },
     "metadata": {
      "needs_background": "light"
     },
     "output_type": "display_data"
    }
   ],
   "source": [
    "model4.params[1:].sort_values().plot(kind='barh')"
   ]
  },
  {
   "cell_type": "markdown",
   "metadata": {},
   "source": [
    "---\n",
    "❓ What are the most important features? (make a bar chart to visualize them well)\n",
    "- How has the overall regression performance changed?\n",
    "- Is this regression statistically significant?"
   ]
  },
  {
   "cell_type": "code",
   "execution_count": 32,
   "metadata": {},
   "outputs": [],
   "source": [
    "# Your answer"
   ]
  },
  {
   "cell_type": "markdown",
   "metadata": {},
   "source": [
    "<details>\n",
    "    <summary>💡Explanations</summary>\n",
    "    \n",
    "\n",
    "- `wait_time` is the biggest explanatory variable\n",
    "- The more `products` and `sellers` there are for a single order, the lower the `review_score`. \n",
    "- Distance also plays a role.\n",
    "- Depending on your choice of feature, you may not be able to conclude anything about `price` and `freight_value` if their p-values are too high\n",
    "    \n",
    "- Overall, this multivariate regression remains statistically significant, because its F-statistics are much greater than 1 (at least one feature has a very low p-value)\n",
    "\n",
    "- R-squared hasn't increased by much. Most of the explanability of review_score lies outside of the orders dataset.\n",
    "\n",
    "Low R-squared is common when the number of observations (n) is much higher than the number of features (p). Relevant insights can still be derived from such regressions, provided they are statistically significant\n",
    "</details>\n",
    "\n"
   ]
  },
  {
   "cell_type": "markdown",
   "metadata": {},
   "source": [
    "## 3 - Check model performance"
   ]
  },
  {
   "cell_type": "markdown",
   "metadata": {},
   "source": [
    "Regression performance should not be measured only by it's R-squared!  \n",
    "Always visualize the distribution of the predictions, and especially the residuals.\n",
    "\n",
    "❓ Compute the residuals, notice how their mean is equal to 0 (always the case in linear regression), and compute the associated RMSE.   \n",
    "Plot the `residuals` in a histogram."
   ]
  },
  {
   "cell_type": "code",
   "execution_count": 41,
   "metadata": {},
   "outputs": [],
   "source": [
    "# Your code\n",
    "prediction = model4.predict(z_feat)\n",
    "prediction\n",
    "actual_score = z_feat['review_score']"
   ]
  },
  {
   "cell_type": "code",
   "execution_count": 42,
   "metadata": {},
   "outputs": [
    {
     "data": {
      "text/plain": [
       "0        4\n",
       "1        4\n",
       "2        5\n",
       "3        5\n",
       "4        5\n",
       "        ..\n",
       "96528    5\n",
       "96529    4\n",
       "96530    5\n",
       "96531    2\n",
       "96532    5\n",
       "Name: review_score, Length: 96525, dtype: int64"
      ]
     },
     "execution_count": 42,
     "metadata": {},
     "output_type": "execute_result"
    }
   ],
   "source": [
    "actual_score"
   ]
  },
  {
   "cell_type": "code",
   "execution_count": 43,
   "metadata": {},
   "outputs": [
    {
     "data": {
      "text/plain": [
       "<AxesSubplot:>"
      ]
     },
     "execution_count": 43,
     "metadata": {},
     "output_type": "execute_result"
    },
    {
     "data": {
      "image/png": "[encoded data removed]",
      "text/plain": [
       "<Figure size 432x288 with 1 Axes>"
      ]
     },
     "metadata": {
      "needs_background": "light"
     },
     "output_type": "display_data"
    }
   ],
   "source": [
    "residuals = actual_score - prediction\n",
    "residuals[residuals<4].hist(bins=50)"
   ]
  },
  {
   "cell_type": "code",
   "execution_count": 45,
   "metadata": {},
   "outputs": [],
   "source": [
    "import math\n",
    "mse = np.square(np.subtract(actual_score,prediction)).mean() \n",
    "rmse = math.sqrt(mse)"
   ]
  },
  {
   "cell_type": "code",
   "execution_count": 46,
   "metadata": {},
   "outputs": [
    {
     "data": {
      "text/plain": [
       "1.1989989984376037"
      ]
     },
     "execution_count": 46,
     "metadata": {},
     "output_type": "execute_result"
    }
   ],
   "source": [
    "rmse"
   ]
  },
  {
   "cell_type": "markdown",
   "metadata": {},
   "source": [
    "❓ Can you guess why the residual distplot is such a strange shape? To understand, plot on the same axis the histogram of `review_score` as well as that of the `predicted_review_score` for each row of the dataset"
   ]
  },
  {
   "cell_type": "code",
   "execution_count": 52,
   "metadata": {},
   "outputs": [
    {
     "data": {
      "text/plain": [
       "<AxesSubplot:xlabel='review_score', ylabel='Density'>"
      ]
     },
     "execution_count": 52,
     "metadata": {},
     "output_type": "execute_result"
    },
    {
     "data": {
      "image/png": "[encoded data removed]",
      "text/plain": [
       "<Figure size 432x288 with 1 Axes>"
      ]
     },
     "metadata": {
      "needs_background": "light"
     },
     "output_type": "display_data"
    }
   ],
   "source": [
    "# Your code\n",
    "sns.kdeplot(prediction, label='prediction')\n",
    "sns.kdeplot(actual_score,label='actual')"
   ]
  },
  {
   "cell_type": "markdown",
   "metadata": {},
   "source": [
    "<details>\n",
    "    <summary>💡Explanations</summary>\n",
    "\n",
    "☝️ Our model is not so great, for two reasons\n",
    "- First, because we don't have enough features to explain a significant proportion of the review_scores (low R-squared)\n",
    "- Secondly, because we are trying to fit a \"linear regression\" function to a discreet classification problem\n",
    "\n",
    "Tomorrow, you will discover a new model: the logistic regression classifier\n",
    "    \n",
    "</details>"
   ]
  },
  {
   "cell_type": "markdown",
   "metadata": {},
   "source": [
    "🏁 Great job! Don't forget to *save*, *commit* and *push* this notebook when you are done"
   ]
  }
 ],
 "metadata": {
  "kernelspec": {
   "display_name": "Python 3",
   "language": "python",
   "name": "python3"
  },
  "language_info": {
   "codemirror_mode": {
    "name": "ipython",
    "version": 3
   },
   "file_extension": ".py",
   "mimetype": "text/x-python",
   "name": "python",
   "nbconvert_exporter": "python",
   "pygments_lexer": "ipython3",
   "version": "3.8.6"
  },
  "toc": {
   "base_numbering": 1,
   "nav_menu": {},
   "number_sections": false,
   "sideBar": true,
   "skip_h1_title": false,
   "title_cell": "Table of Contents",
   "title_sidebar": "Contents",
   "toc_cell": false,
   "toc_position": {
    "height": "calc(100% - 180px)",
    "left": "10px",
    "top": "150px",
    "width": "384px"
   },
   "toc_section_display": true,
   "toc_window_display": true
  },
  "varInspector": {
   "cols": {
    "lenName": 16,
    "lenType": 16,
    "lenVar": 40
   },
   "kernels_config": {
    "python": {
     "delete_cmd_postfix": "",
     "delete_cmd_prefix": "del ",
     "library": "var_list.py",
     "varRefreshCmd": "print(var_dic_list())"
    },
    "r": {
     "delete_cmd_postfix": ") ",
     "delete_cmd_prefix": "rm(",
     "library": "var_list.r",
     "varRefreshCmd": "cat(var_dic_list()) "
    }
   },
   "types_to_exclude": [
    "module",
    "function",
    "builtin_function_or_method",
    "instance",
    "_Feature"
   ],
   "window_display": false
  }
 },
 "nbformat": 4,
 "nbformat_minor": 4
}
