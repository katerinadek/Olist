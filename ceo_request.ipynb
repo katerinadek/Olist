{
 "cells": [
  {
   "cell_type": "markdown",
   "metadata": {
    "slideshow": {
     "slide_type": "slide"
    }
   },
   "source": [
    "> Should Olist remove underperforming sellers from its marketplace?"
   ]
  },
  {
   "cell_type": "code",
   "execution_count": 3,
   "metadata": {
    "scrolled": true,
    "slideshow": {
     "slide_type": "subslide"
    }
   },
   "outputs": [
    {
     "data": {
      "text/html": [
       "<div>\n",
       "<style scoped>\n",
       "    .dataframe tbody tr th:only-of-type {\n",
       "        vertical-align: middle;\n",
       "    }\n",
       "\n",
       "    .dataframe tbody tr th {\n",
       "        vertical-align: top;\n",
       "    }\n",
       "\n",
       "    .dataframe thead th {\n",
       "        text-align: right;\n",
       "    }\n",
       "</style>\n",
       "<table border=\"1\" class=\"dataframe\">\n",
       "  <thead>\n",
       "    <tr style=\"text-align: right;\">\n",
       "      <th></th>\n",
       "      <th>seller_id</th>\n",
       "      <th>seller_city</th>\n",
       "      <th>seller_state</th>\n",
       "      <th>delay_to_carrier</th>\n",
       "      <th>wait_time</th>\n",
       "      <th>date_first_sale</th>\n",
       "      <th>date_last_sale</th>\n",
       "      <th>months_on_olist</th>\n",
       "      <th>share_of_one_stars</th>\n",
       "      <th>share_of_five_stars</th>\n",
       "      <th>review_score</th>\n",
       "      <th>cost_of_reviews</th>\n",
       "      <th>n_orders</th>\n",
       "      <th>quantity</th>\n",
       "      <th>quantity_per_order</th>\n",
       "      <th>sales</th>\n",
       "      <th>revenues</th>\n",
       "      <th>profits</th>\n",
       "    </tr>\n",
       "  </thead>\n",
       "  <tbody>\n",
       "    <tr>\n",
       "      <th>769</th>\n",
       "      <td>6560211a19b47992c3666cc44a7e94c0</td>\n",
       "      <td>sao paulo</td>\n",
       "      <td>SP</td>\n",
       "      <td>0.0</td>\n",
       "      <td>9.539486</td>\n",
       "      <td>2017-02-17 07:45:11</td>\n",
       "      <td>2018-08-29 09:25:12</td>\n",
       "      <td>18.0</td>\n",
       "      <td>0.127957</td>\n",
       "      <td>0.510215</td>\n",
       "      <td>3.922043</td>\n",
       "      <td>36270</td>\n",
       "      <td>1854</td>\n",
       "      <td>2039</td>\n",
       "      <td>1.099784</td>\n",
       "      <td>123304.83</td>\n",
       "      <td>13770.483</td>\n",
       "      <td>-22499.517</td>\n",
       "    </tr>\n",
       "    <tr>\n",
       "      <th>2360</th>\n",
       "      <td>4a3ca9315b744ce9f8e9374361493884</td>\n",
       "      <td>ibitinga</td>\n",
       "      <td>SP</td>\n",
       "      <td>0.0</td>\n",
       "      <td>14.416471</td>\n",
       "      <td>2017-01-08 09:45:12</td>\n",
       "      <td>2018-08-27 11:04:18</td>\n",
       "      <td>20.0</td>\n",
       "      <td>0.147640</td>\n",
       "      <td>0.476948</td>\n",
       "      <td>3.804610</td>\n",
       "      <td>40890</td>\n",
       "      <td>1806</td>\n",
       "      <td>2009</td>\n",
       "      <td>1.112403</td>\n",
       "      <td>200472.92</td>\n",
       "      <td>21647.292</td>\n",
       "      <td>-19242.708</td>\n",
       "    </tr>\n",
       "    <tr>\n",
       "      <th>1358</th>\n",
       "      <td>cc419e0650a3c5ba77189a1882b7556a</td>\n",
       "      <td>santo andre</td>\n",
       "      <td>SP</td>\n",
       "      <td>0.0</td>\n",
       "      <td>11.539753</td>\n",
       "      <td>2017-02-02 17:10:21</td>\n",
       "      <td>2018-08-28 03:45:15</td>\n",
       "      <td>19.0</td>\n",
       "      <td>0.117277</td>\n",
       "      <td>0.581808</td>\n",
       "      <td>4.069222</td>\n",
       "      <td>30000</td>\n",
       "      <td>1706</td>\n",
       "      <td>1819</td>\n",
       "      <td>1.066237</td>\n",
       "      <td>104288.42</td>\n",
       "      <td>11948.842</td>\n",
       "      <td>-18051.158</td>\n",
       "    </tr>\n",
       "    <tr>\n",
       "      <th>946</th>\n",
       "      <td>ea8482cd71df3c1969d7b9473ff13abc</td>\n",
       "      <td>sao paulo</td>\n",
       "      <td>SP</td>\n",
       "      <td>0.0</td>\n",
       "      <td>13.315562</td>\n",
       "      <td>2017-08-16 15:15:26</td>\n",
       "      <td>2018-08-25 02:45:21</td>\n",
       "      <td>12.0</td>\n",
       "      <td>0.116827</td>\n",
       "      <td>0.524847</td>\n",
       "      <td>3.984307</td>\n",
       "      <td>20710</td>\n",
       "      <td>1146</td>\n",
       "      <td>1204</td>\n",
       "      <td>1.050611</td>\n",
       "      <td>37177.52</td>\n",
       "      <td>4677.752</td>\n",
       "      <td>-16032.248</td>\n",
       "    </tr>\n",
       "    <tr>\n",
       "      <th>315</th>\n",
       "      <td>8b321bb669392f5163d04c59e235e066</td>\n",
       "      <td>sao paulo</td>\n",
       "      <td>SP</td>\n",
       "      <td>0.0</td>\n",
       "      <td>12.616899</td>\n",
       "      <td>2017-10-27 16:31:30</td>\n",
       "      <td>2018-08-21 17:08:38</td>\n",
       "      <td>10.0</td>\n",
       "      <td>0.118770</td>\n",
       "      <td>0.567338</td>\n",
       "      <td>4.069989</td>\n",
       "      <td>15620</td>\n",
       "      <td>943</td>\n",
       "      <td>1018</td>\n",
       "      <td>1.079533</td>\n",
       "      <td>17535.69</td>\n",
       "      <td>2553.569</td>\n",
       "      <td>-13066.431</td>\n",
       "    </tr>\n",
       "  </tbody>\n",
       "</table>\n",
       "</div>"
      ],
      "text/plain": [
       "                             seller_id  seller_city seller_state  \\\n",
       "769   6560211a19b47992c3666cc44a7e94c0    sao paulo           SP   \n",
       "2360  4a3ca9315b744ce9f8e9374361493884     ibitinga           SP   \n",
       "1358  cc419e0650a3c5ba77189a1882b7556a  santo andre           SP   \n",
       "946   ea8482cd71df3c1969d7b9473ff13abc    sao paulo           SP   \n",
       "315   8b321bb669392f5163d04c59e235e066    sao paulo           SP   \n",
       "\n",
       "      delay_to_carrier  wait_time     date_first_sale      date_last_sale  \\\n",
       "769                0.0   9.539486 2017-02-17 07:45:11 2018-08-29 09:25:12   \n",
       "2360               0.0  14.416471 2017-01-08 09:45:12 2018-08-27 11:04:18   \n",
       "1358               0.0  11.539753 2017-02-02 17:10:21 2018-08-28 03:45:15   \n",
       "946                0.0  13.315562 2017-08-16 15:15:26 2018-08-25 02:45:21   \n",
       "315                0.0  12.616899 2017-10-27 16:31:30 2018-08-21 17:08:38   \n",
       "\n",
       "      months_on_olist  share_of_one_stars  share_of_five_stars  review_score  \\\n",
       "769              18.0            0.127957             0.510215      3.922043   \n",
       "2360             20.0            0.147640             0.476948      3.804610   \n",
       "1358             19.0            0.117277             0.581808      4.069222   \n",
       "946              12.0            0.116827             0.524847      3.984307   \n",
       "315              10.0            0.118770             0.567338      4.069989   \n",
       "\n",
       "      cost_of_reviews  n_orders  quantity  quantity_per_order      sales  \\\n",
       "769             36270      1854      2039            1.099784  123304.83   \n",
       "2360            40890      1806      2009            1.112403  200472.92   \n",
       "1358            30000      1706      1819            1.066237  104288.42   \n",
       "946             20710      1146      1204            1.050611   37177.52   \n",
       "315             15620       943      1018            1.079533   17535.69   \n",
       "\n",
       "       revenues    profits  \n",
       "769   13770.483 -22499.517  \n",
       "2360  21647.292 -19242.708  \n",
       "1358  11948.842 -18051.158  \n",
       "946    4677.752 -16032.248  \n",
       "315    2553.569 -13066.431  "
      ]
     },
     "execution_count": 3,
     "metadata": {},
     "output_type": "execute_result"
    }
   ],
   "source": [
    "# import data, and sort from worst to best seller according to profits\n",
    "\n",
    "sellers = seller.get_training_data()\n",
    "\n",
    "sellers.sort_values(by='profits', ascending = True, inplace = True)\n",
    "\n",
    "sellers.head()"
   ]
  },
  {
   "cell_type": "code",
   "execution_count": 4,
   "metadata": {
    "slideshow": {
     "slide_type": "slide"
    }
   },
   "outputs": [
    {
     "data": {
      "text/plain": [
       "1582.3735631973473"
      ]
     },
     "execution_count": 4,
     "metadata": {},
     "output_type": "execute_result"
    }
   ],
   "source": [
    "# Calculate IT COSTS\n",
    "# IT costs =  A * (n_orders)**0.5\n",
    "\n",
    "# First, compute A\n",
    "#A = olist_it_costs_all_orders / (sellers['n_orders'].sum()**0.5)\n",
    "\n",
    "A = 500000 / (sellers['n_orders'].sum()**0.5)\n",
    "A"
   ]
  },
  {
   "cell_type": "markdown",
   "metadata": {
    "slideshow": {
     "slide_type": "subslide"
    }
   },
   "source": [
    "IT costs are 1582.3735631973473"
   ]
  },
  {
   "cell_type": "code",
   "execution_count": 5,
   "metadata": {
    "slideshow": {
     "slide_type": "slide"
    }
   },
   "outputs": [
    {
     "data": {
      "text/plain": [
       "616965.223999999"
      ]
     },
     "execution_count": 5,
     "metadata": {},
     "output_type": "execute_result"
    }
   ],
   "source": [
    "# Calculating benefits as it stands\n",
    "# Profits - IT Costs\n",
    "\n",
    "benef = sellers.profits.sum() - ( A * (sellers['n_orders'].sum()**0.5)  )\n",
    "\n",
    "benef"
   ]
  },
  {
   "cell_type": "markdown",
   "metadata": {
    "slideshow": {
     "slide_type": "subslide"
    }
   },
   "source": [
    "If we subtract the IT costs from the profits we have the benefits: 1582.3735631973473"
   ]
  },
  {
   "cell_type": "code",
   "execution_count": 6,
   "metadata": {
    "slideshow": {
     "slide_type": "subslide"
    }
   },
   "outputs": [],
   "source": [
    "# Iteratively removing sellers by slicing dataframe\n",
    "sellers_removed = []\n",
    "total_profits = []\n",
    "\n",
    "for i in range(len(sellers)):\n",
    "    \n",
    "    # Recalculate profits\n",
    "    profits = sellers[i:].profits.sum() - A * (sellers[i:]['n_orders'].sum()**0.5)\n",
    "    \n",
    "    # Append recalculated profits and # of sellers removed to respective lists\n",
    "    total_profits.append(profits)\n",
    "    sellers_removed.append(i)"
   ]
  },
  {
   "cell_type": "markdown",
   "metadata": {
    "slideshow": {
     "slide_type": "slide"
    }
   },
   "source": [
    "Here we can see the plot and where more or less is the turning point"
   ]
  },
  {
   "cell_type": "code",
   "execution_count": 7,
   "metadata": {
    "scrolled": false,
    "slideshow": {
     "slide_type": "subslide"
    }
   },
   "outputs": [
    {
     "data": {
      "text/plain": [
       "[<matplotlib.lines.Line2D at 0x7fa4adaf8730>]"
      ]
     },
     "execution_count": 7,
     "metadata": {},
     "output_type": "execute_result"
    },
    {
     "data": {
      "image/png": "[encoded data removed]",
      "text/plain": [
       "<Figure size 432x288 with 1 Axes>"
      ]
     },
     "metadata": {
      "needs_background": "light"
     },
     "output_type": "display_data"
    }
   ],
   "source": [
    "# Plot the bad boy\n",
    "plt.plot(sellers_removed,total_profits)"
   ]
  },
  {
   "cell_type": "markdown",
   "metadata": {
    "slideshow": {
     "slide_type": "slide"
    }
   },
   "source": [
    "A more accurate represantation of the turning point"
   ]
  },
  {
   "cell_type": "code",
   "execution_count": 23,
   "metadata": {
    "scrolled": false,
    "slideshow": {
     "slide_type": "subslide"
    },
    "tags": [
     "hide-input"
    ]
   },
   "outputs": [
    {
     "data": {
      "image/png": "[encoded data removed]",
      "text/plain": [
       "<Figure size 864x576 with 1 Axes>"
      ]
     },
     "metadata": {
      "needs_background": "light"
     },
     "output_type": "display_data"
    }
   ],
   "source": [
    "removed_sellers_df = pd.DataFrame(total_profits, sellers_removed)\n",
    "turning_point = removed_sellers_df.idxmax(axis = 0)[0]\n",
    "plt.figure(figsize=(12,8));\n",
    "plt.plot(removed_sellers_df, label='Profit');\n",
    "plt.axvline(turning_point, color='red', label = 'Turning Point');\n",
    "plt.annotate(turning_point,(461,700000));\n",
    "plt.xlabel('Sellers to remove');\n",
    "plt.ylabel('Profit in BRL');\n",
    "plt.legend();"
   ]
  },
  {
   "cell_type": "markdown",
   "metadata": {
    "slideshow": {
     "slide_type": "slide"
    }
   },
   "source": [
    "It turns out that we can maximize the profit if we remove the first 494 underperforming sellers"
   ]
  }
 ],
 "metadata": {
  "celltoolbar": "Slideshow",
  "kernelspec": {
   "display_name": "Python 3",
   "language": "python",
   "name": "python3"
  },
  "language_info": {
   "codemirror_mode": {
    "name": "ipython",
    "version": 3
   },
   "file_extension": ".py",
   "mimetype": "text/x-python",
   "name": "python",
   "nbconvert_exporter": "python",
   "pygments_lexer": "ipython3",
   "version": "3.8.6"
  },
  "toc": {
   "base_numbering": 1,
   "nav_menu": {},
   "number_sections": true,
   "sideBar": true,
   "skip_h1_title": true,
   "title_cell": "Table of Contents",
   "title_sidebar": "Contents",
   "toc_cell": false,
   "toc_position": {
    "height": "calc(100% - 180px)",
    "left": "10px",
    "top": "150px",
    "width": "384px"
   },
   "toc_section_display": true,
   "toc_window_display": true
  },
  "varInspector": {
   "cols": {
    "lenName": 16,
    "lenType": 16,
    "lenVar": 40
   },
   "kernels_config": {
    "python": {
     "delete_cmd_postfix": "",
     "delete_cmd_prefix": "del ",
     "library": "var_list.py",
     "varRefreshCmd": "print(var_dic_list())"
    },
    "r": {
     "delete_cmd_postfix": ") ",
     "delete_cmd_prefix": "rm(",
     "library": "var_list.r",
     "varRefreshCmd": "cat(var_dic_list()) "
    }
   },
   "types_to_exclude": [
    "module",
    "function",
    "builtin_function_or_method",
    "instance",
    "_Feature"
   ],
   "window_display": false
  }
 },
 "nbformat": 4,
 "nbformat_minor": 4
}
